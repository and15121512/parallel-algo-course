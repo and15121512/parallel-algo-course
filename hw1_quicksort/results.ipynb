{
 "cells": [
  {
   "cell_type": "markdown",
   "id": "e7c44e86-6d17-43aa-9e94-f4b588466d78",
   "metadata": {},
   "source": [
    "### Quicksort\n"
   ]
  },
  {
   "cell_type": "code",
   "execution_count": 5,
   "id": "24b20c1a-814d-439f-b668-ead16e0cbf04",
   "metadata": {
    "execution": {
     "iopub.execute_input": "2023-12-03T13:25:06.147435Z",
     "iopub.status.busy": "2023-12-03T13:25:06.145093Z",
     "iopub.status.idle": "2023-12-03T13:25:06.168735Z",
     "shell.execute_reply": "2023-12-03T13:25:06.167595Z",
     "shell.execute_reply.started": "2023-12-03T13:25:06.147289Z"
    }
   },
   "outputs": [
    {
     "data": {
      "text/html": [
       "<div>\n",
       "<style scoped>\n",
       "    .dataframe tbody tr th:only-of-type {\n",
       "        vertical-align: middle;\n",
       "    }\n",
       "\n",
       "    .dataframe tbody tr th {\n",
       "        vertical-align: top;\n",
       "    }\n",
       "\n",
       "    .dataframe thead th {\n",
       "        text-align: right;\n",
       "    }\n",
       "</style>\n",
       "<table border=\"1\" class=\"dataframe\">\n",
       "  <thead>\n",
       "    <tr style=\"text-align: right;\">\n",
       "      <th></th>\n",
       "      <th>Run</th>\n",
       "      <th>Seq, s</th>\n",
       "      <th>Par, s</th>\n",
       "      <th>Ratio</th>\n",
       "    </tr>\n",
       "  </thead>\n",
       "  <tbody>\n",
       "    <tr>\n",
       "      <th>0</th>\n",
       "      <td>1</td>\n",
       "      <td>198.3400</td>\n",
       "      <td>61.4030</td>\n",
       "      <td>3.230135</td>\n",
       "    </tr>\n",
       "    <tr>\n",
       "      <th>1</th>\n",
       "      <td>2</td>\n",
       "      <td>195.3430</td>\n",
       "      <td>63.6450</td>\n",
       "      <td>3.069259</td>\n",
       "    </tr>\n",
       "    <tr>\n",
       "      <th>2</th>\n",
       "      <td>3</td>\n",
       "      <td>176.4590</td>\n",
       "      <td>65.8450</td>\n",
       "      <td>2.679915</td>\n",
       "    </tr>\n",
       "    <tr>\n",
       "      <th>3</th>\n",
       "      <td>4</td>\n",
       "      <td>186.2510</td>\n",
       "      <td>68.7490</td>\n",
       "      <td>2.709145</td>\n",
       "    </tr>\n",
       "    <tr>\n",
       "      <th>4</th>\n",
       "      <td>5</td>\n",
       "      <td>181.3200</td>\n",
       "      <td>65.9660</td>\n",
       "      <td>2.748689</td>\n",
       "    </tr>\n",
       "    <tr>\n",
       "      <th>5</th>\n",
       "      <td>Avg</td>\n",
       "      <td>187.5426</td>\n",
       "      <td>65.1216</td>\n",
       "      <td>2.879883</td>\n",
       "    </tr>\n",
       "  </tbody>\n",
       "</table>\n",
       "</div>"
      ],
      "text/plain": [
       "   Run    Seq, s   Par, s     Ratio\n",
       "0    1  198.3400  61.4030  3.230135\n",
       "1    2  195.3430  63.6450  3.069259\n",
       "2    3  176.4590  65.8450  2.679915\n",
       "3    4  186.2510  68.7490  2.709145\n",
       "4    5  181.3200  65.9660  2.748689\n",
       "5  Avg  187.5426  65.1216  2.879883"
      ]
     },
     "execution_count": 5,
     "metadata": {},
     "output_type": "execute_result"
    }
   ],
   "source": [
    "import numpy as np\n",
    "import pandas as pd\n",
    "\n",
    "par = [61.403, 63.645, 65.845, 68.749, 65.966]\n",
    "seq = [198.34, 195.343, 176.459, 186.251, 181.32]\n",
    "\n",
    "pd.DataFrame({\n",
    "    'Run': ['1', '2', '3', '4', '5', 'Avg'],\n",
    "    'Seq, s': seq+[float(np.mean(seq))],\n",
    "    'Par, s': par+[float(np.mean(par))],\n",
    "    'Ratio': np.array(seq+[float(np.mean(seq))]) / np.array(par+[float(np.mean(par))])\n",
    "})"
   ]
  },
  {
   "cell_type": "code",
   "execution_count": null,
   "id": "492d62bd-c77e-4d49-a03f-3d09553ab231",
   "metadata": {},
   "outputs": [],
   "source": []
  }
 ],
 "metadata": {
  "kernelspec": {
   "display_name": "Python 3 (ipykernel)",
   "language": "python",
   "name": "python3"
  },
  "language_info": {
   "codemirror_mode": {
    "name": "ipython",
    "version": 3
   },
   "file_extension": ".py",
   "mimetype": "text/x-python",
   "name": "python",
   "nbconvert_exporter": "python",
   "pygments_lexer": "ipython3",
   "version": "3.10.12"
  }
 },
 "nbformat": 4,
 "nbformat_minor": 5
}
