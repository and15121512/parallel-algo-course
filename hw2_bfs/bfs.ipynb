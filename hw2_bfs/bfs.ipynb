{
 "cells": [
  {
   "cell_type": "markdown",
   "id": "e7c44e86-6d17-43aa-9e94-f4b588466d78",
   "metadata": {},
   "source": [
    "### BFS\n"
   ]
  },
  {
   "cell_type": "code",
   "execution_count": 1,
   "id": "24b20c1a-814d-439f-b668-ead16e0cbf04",
   "metadata": {
    "execution": {
     "iopub.execute_input": "2023-12-12T10:28:37.054395Z",
     "iopub.status.busy": "2023-12-12T10:28:37.053876Z",
     "iopub.status.idle": "2023-12-12T10:28:37.581920Z",
     "shell.execute_reply": "2023-12-12T10:28:37.581248Z",
     "shell.execute_reply.started": "2023-12-12T10:28:37.054347Z"
    }
   },
   "outputs": [
    {
     "data": {
      "text/html": [
       "<div>\n",
       "<style scoped>\n",
       "    .dataframe tbody tr th:only-of-type {\n",
       "        vertical-align: middle;\n",
       "    }\n",
       "\n",
       "    .dataframe tbody tr th {\n",
       "        vertical-align: top;\n",
       "    }\n",
       "\n",
       "    .dataframe thead th {\n",
       "        text-align: right;\n",
       "    }\n",
       "</style>\n",
       "<table border=\"1\" class=\"dataframe\">\n",
       "  <thead>\n",
       "    <tr style=\"text-align: right;\">\n",
       "      <th></th>\n",
       "      <th>Run</th>\n",
       "      <th>Seq, s</th>\n",
       "      <th>Par, s</th>\n",
       "      <th>Ratio</th>\n",
       "    </tr>\n",
       "  </thead>\n",
       "  <tbody>\n",
       "    <tr>\n",
       "      <th>0</th>\n",
       "      <td>1</td>\n",
       "      <td>14.6540</td>\n",
       "      <td>4.9440</td>\n",
       "      <td>2.963997</td>\n",
       "    </tr>\n",
       "    <tr>\n",
       "      <th>1</th>\n",
       "      <td>2</td>\n",
       "      <td>14.7010</td>\n",
       "      <td>4.9510</td>\n",
       "      <td>2.969299</td>\n",
       "    </tr>\n",
       "    <tr>\n",
       "      <th>2</th>\n",
       "      <td>3</td>\n",
       "      <td>14.5610</td>\n",
       "      <td>4.7090</td>\n",
       "      <td>3.092164</td>\n",
       "    </tr>\n",
       "    <tr>\n",
       "      <th>3</th>\n",
       "      <td>4</td>\n",
       "      <td>14.6970</td>\n",
       "      <td>4.6720</td>\n",
       "      <td>3.145762</td>\n",
       "    </tr>\n",
       "    <tr>\n",
       "      <th>4</th>\n",
       "      <td>5</td>\n",
       "      <td>15.0760</td>\n",
       "      <td>4.8650</td>\n",
       "      <td>3.098869</td>\n",
       "    </tr>\n",
       "    <tr>\n",
       "      <th>5</th>\n",
       "      <td>Avg</td>\n",
       "      <td>14.7378</td>\n",
       "      <td>4.8282</td>\n",
       "      <td>3.052442</td>\n",
       "    </tr>\n",
       "  </tbody>\n",
       "</table>\n",
       "</div>"
      ],
      "text/plain": [
       "   Run   Seq, s  Par, s     Ratio\n",
       "0    1  14.6540  4.9440  2.963997\n",
       "1    2  14.7010  4.9510  2.969299\n",
       "2    3  14.5610  4.7090  3.092164\n",
       "3    4  14.6970  4.6720  3.145762\n",
       "4    5  15.0760  4.8650  3.098869\n",
       "5  Avg  14.7378  4.8282  3.052442"
      ]
     },
     "execution_count": 1,
     "metadata": {},
     "output_type": "execute_result"
    }
   ],
   "source": [
    "import numpy as np\n",
    "import pandas as pd\n",
    "\n",
    "par = [4.944, 4.951, 4.709, 4.672, 4.865]\n",
    "seq = [14.654, 14.701, 14.561, 14.697, 15.076]\n",
    "\n",
    "pd.DataFrame({\n",
    "    'Run': ['1', '2', '3', '4', '5', 'Avg'],\n",
    "    'Seq, s': seq+[float(np.mean(seq))],\n",
    "    'Par, s': par+[float(np.mean(par))],\n",
    "    'Ratio': np.array(seq+[float(np.mean(seq))]) / np.array(par+[float(np.mean(par))])\n",
    "})"
   ]
  },
  {
   "cell_type": "code",
   "execution_count": null,
   "id": "492d62bd-c77e-4d49-a03f-3d09553ab231",
   "metadata": {},
   "outputs": [],
   "source": []
  }
 ],
 "metadata": {
  "kernelspec": {
   "display_name": "Python 3 (ipykernel)",
   "language": "python",
   "name": "python3"
  },
  "language_info": {
   "codemirror_mode": {
    "name": "ipython",
    "version": 3
   },
   "file_extension": ".py",
   "mimetype": "text/x-python",
   "name": "python",
   "nbconvert_exporter": "python",
   "pygments_lexer": "ipython3",
   "version": "3.10.12"
  }
 },
 "nbformat": 4,
 "nbformat_minor": 5
}
